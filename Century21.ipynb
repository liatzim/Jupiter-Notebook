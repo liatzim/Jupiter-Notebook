{
 "cells": [
  {
   "cell_type": "code",
   "execution_count": 6,
   "metadata": {},
   "outputs": [],
   "source": [
    "import requests \n",
    "from bs4 import BeautifulSoup\n",
    "\n",
    "\n",
    "r=requests.get(\"http://www.pythonhow.com/real-estate/rock-springs-wy/LCWYROCKSPRINGS/\")\n",
    "c=r.content\n",
    "\n",
    "\n",
    "soup=BeautifulSoup(c,\"html.parser\")\n",
    "\n",
    "\n",
    "all=soup.find_all(\"div\",{\"class\":\"propertyRow\"})"
   ]
  },
  {
   "cell_type": "code",
   "execution_count": 7,
   "metadata": {},
   "outputs": [
    {
     "data": {
      "text/plain": [
       "[<h4 class=\"propPrice\">\n",
       " \n",
       " \n",
       "             $725,000\n",
       " \n",
       " \n",
       " \n",
       "       <span class=\"IconPropertyFavorite16\"></span>\n",
       " </h4>]"
      ]
     },
     "execution_count": 7,
     "metadata": {},
     "output_type": "execute_result"
    }
   ],
   "source": [
    "all[0].find_all(\"h4\",{\"class\":\"propPrice\"})"
   ]
  },
  {
   "cell_type": "code",
   "execution_count": 8,
   "metadata": {},
   "outputs": [
    {
     "data": {
      "text/plain": [
       "<h4 class=\"propPrice\">\n",
       "\n",
       "\n",
       "            $725,000\n",
       "\n",
       "\n",
       "\n",
       "      <span class=\"IconPropertyFavorite16\"></span>\n",
       "</h4>"
      ]
     },
     "execution_count": 8,
     "metadata": {},
     "output_type": "execute_result"
    }
   ],
   "source": [
    "all[0].find(\"h4\",{\"class\":\"propPrice\"})\n"
   ]
  },
  {
   "cell_type": "code",
   "execution_count": 9,
   "metadata": {},
   "outputs": [
    {
     "data": {
      "text/plain": [
       "str"
      ]
     },
     "execution_count": 9,
     "metadata": {},
     "output_type": "execute_result"
    }
   ],
   "source": [
    "type(all[0].find(\"h4\",{\"class\":\"propPrice\"}).text)\n"
   ]
  },
  {
   "cell_type": "code",
   "execution_count": 10,
   "metadata": {},
   "outputs": [
    {
     "data": {
      "text/plain": [
       "'\\n\\n\\n            $725,000\\n\\n\\n\\n      \\n'"
      ]
     },
     "execution_count": 10,
     "metadata": {},
     "output_type": "execute_result"
    }
   ],
   "source": [
    "# Show the html code for this house\n",
    "all[0].find(\"h4\",{\"class\":\"propPrice\"}).text"
   ]
  },
  {
   "cell_type": "code",
   "execution_count": 11,
   "metadata": {},
   "outputs": [
    {
     "data": {
      "text/plain": [
       "'$725,000'"
      ]
     },
     "execution_count": 11,
     "metadata": {},
     "output_type": "execute_result"
    }
   ],
   "source": [
    "# Replacing the dashes and the spaces with nothing to clean the data\n",
    "all[0].find(\"h4\",{\"class\":\"propPrice\"}).text.replace(\"\\n\",\"\").replace(\" \",\"\")"
   ]
  },
  {
   "cell_type": "code",
   "execution_count": 22,
   "metadata": {},
   "outputs": [
    {
     "name": "stdout",
     "output_type": "stream",
     "text": [
      "$725,000\n",
      "0 Gateway\n",
      "Rock Springs, WY 82901\n",
      "None\n",
      "None\n",
      "None\n",
      " \n",
      "$452,900\n",
      "1003 Winchester Blvd.\n",
      "Rock Springs, WY 82901\n",
      "4\n",
      "4\n",
      "None\n",
      "0.21 Acres\n",
      " \n",
      "$396,900\n",
      "600 Talladega\n",
      "Rock Springs, WY 82901\n",
      "5\n",
      "3\n",
      "None\n",
      " \n",
      "$389,900\n",
      "3239 Spearhead Way\n",
      "Rock Springs, WY 82901\n",
      "4\n",
      "3\n",
      "None\n",
      "Under 1/2 Acre, \n",
      " \n",
      "$254,000\n",
      "522 Emerald Street\n",
      "Rock Springs, WY 82901\n",
      "3\n",
      "3\n",
      "None\n",
      "Under 1/2 Acre, \n",
      " \n",
      "$252,900\n",
      "1302 Veteran's Drive\n",
      "Rock Springs, WY 82901\n",
      "4\n",
      "2\n",
      "None\n",
      "0.27 Acres\n",
      " \n",
      "$210,000\n",
      "1021 Cypress Cir\n",
      "Rock Springs, WY 82901\n",
      "4\n",
      "3\n",
      "None\n",
      "Under 1/2 Acre, \n",
      " \n",
      "$209,000\n",
      "913 Madison Dr\n",
      "Rock Springs, WY 82901\n",
      "3\n",
      "2\n",
      "None\n",
      "Under 1/2 Acre, \n",
      " \n",
      "$199,900\n",
      "1344 Teton Street\n",
      "Rock Springs, WY 82901\n",
      "3\n",
      "2\n",
      "None\n",
      "Under 1/2 Acre, \n",
      " \n",
      "$196,900\n",
      "4 Minnies Lane\n",
      "Rock Springs, WY 82901\n",
      "3\n",
      "2\n",
      "None\n",
      "2.02 Acres\n",
      " \n"
     ]
    }
   ],
   "source": [
    "for item in all:\n",
    "        print(item.find(\"h4\",{\"class\":\"propPrice\"}).text.replace(\"\\n\",\"\").replace(\" \",\"\"))\n",
    "        print(item.find_all(\"span\",{\"class\",\"propAddressCollapse\"})[0].text)\n",
    "        print(item.find_all(\"span\",{\"class\",\"propAddressCollapse\"})[1].text)\n",
    "        try:\n",
    "            print (item.find(\"span\",{\"class\",\"infoBed\"}).find(\"b\").text)\n",
    "        except:\n",
    "            print (None)\n",
    "        try:\n",
    "            print (item.find(\"span\",{\"class\",\"infoValueFullBath\"}).find(\"b\").text)\n",
    "        except:\n",
    "            print (None)\n",
    "        try:\n",
    "            print (item.find(\"span\",{\"class\",\"infoValueHalfBath \"}).find(\"b\").text)\n",
    "        except:\n",
    "            print (None)\n",
    "            \n",
    "        for column_group in item.find_all(\"div\",{\"class\":\"columnGroup\"}):\n",
    "           # print (column_group)\n",
    "            for feature_group,feature_name in zip(column_group.find_all(\"span\",{\"class\":\"featureGroup\"}),column_group.find_all(\"span\",{\"class\":\"featureName\"})):\n",
    "             if \"Lot Size\" in feature_group.text:\n",
    "                    print (feature_name.text)\n",
    "        print (\" \")\n",
    "        \n",
    " "
   ]
  },
  {
   "cell_type": "code",
   "execution_count": null,
   "metadata": {},
   "outputs": [],
   "source": []
  }
 ],
 "metadata": {
  "kernelspec": {
   "display_name": "Python 3",
   "language": "python",
   "name": "python3"
  },
  "language_info": {
   "codemirror_mode": {
    "name": "ipython",
    "version": 3
   },
   "file_extension": ".py",
   "mimetype": "text/x-python",
   "name": "python",
   "nbconvert_exporter": "python",
   "pygments_lexer": "ipython3",
   "version": "3.6.3"
  }
 },
 "nbformat": 4,
 "nbformat_minor": 2
}
